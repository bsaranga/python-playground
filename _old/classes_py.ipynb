{
 "cells": [
  {
   "cell_type": "code",
   "execution_count": 12,
   "metadata": {},
   "outputs": [
    {
     "data": {
      "text/plain": [
       "{'_MyClass__foo': 'foo',\n",
       " 'num': 1,\n",
       " 'fooVal': 'foo',\n",
       " 'pi': 3.14159,\n",
       " 'barVal': 'bar'}"
      ]
     },
     "execution_count": 12,
     "metadata": {},
     "output_type": "execute_result"
    }
   ],
   "source": [
    "class MyClass:\n",
    "    '''This is my class'''\n",
    "    def __init__(self, **kwargs):\n",
    "        self.__foo = kwargs['fooVal']\n",
    "        for key in kwargs.keys():\n",
    "            setattr(self, key, kwargs[key])\n",
    "    \n",
    "    def spitBackOut(arg: str):\n",
    "        return arg\n",
    "\n",
    "myClassInstance = MyClass(num = 1, fooVal = \"foo\", pi = 3.14159, barVal = \"bar\")\n",
    "myClassInstance.__doc__\n",
    "myClassInstance.__dict__"
   ]
  }
 ],
 "metadata": {
  "kernelspec": {
   "display_name": "learning-env",
   "language": "python",
   "name": "python3"
  },
  "language_info": {
   "name": "python",
   "version": "3.10.6"
  },
  "orig_nbformat": 4
 },
 "nbformat": 4,
 "nbformat_minor": 2
}
