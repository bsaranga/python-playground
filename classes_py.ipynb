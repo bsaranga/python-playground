{
 "cells": [
  {
   "cell_type": "code",
   "execution_count": 5,
   "metadata": {},
   "outputs": [
    {
     "data": {
      "text/plain": [
       "['num',\n",
       " 'fooVal',\n",
       " 'pi',\n",
       " 'barVal',\n",
       " '__module__',\n",
       " '__annotations__',\n",
       " '__init__',\n",
       " 'spitBackOut',\n",
       " '__dict__',\n",
       " '__weakref__',\n",
       " '__doc__',\n",
       " '__new__',\n",
       " '__repr__',\n",
       " '__hash__',\n",
       " '__str__',\n",
       " '__getattribute__',\n",
       " '__setattr__',\n",
       " '__delattr__',\n",
       " '__lt__',\n",
       " '__le__',\n",
       " '__eq__',\n",
       " '__ne__',\n",
       " '__gt__',\n",
       " '__ge__',\n",
       " '__reduce_ex__',\n",
       " '__reduce__',\n",
       " '__subclasshook__',\n",
       " '__init_subclass__',\n",
       " '__format__',\n",
       " '__sizeof__',\n",
       " '__dir__',\n",
       " '__class__']"
      ]
     },
     "execution_count": 5,
     "metadata": {},
     "output_type": "execute_result"
    }
   ],
   "source": [
    "class MyClass:\n",
    "    foo: str\n",
    "    def __init__(self, **kwargs):\n",
    "        for key in kwargs.keys():\n",
    "            setattr(self, key, kwargs[key])\n",
    "    \n",
    "    def spitBackOut(arg: str):\n",
    "        return arg\n",
    "\n",
    "myClassInstance = MyClass(num = 1, fooVal = \"foo\", pi = 3.14159, barVal = \"bar\")\n",
    "myClassInstance.__dir__()"
   ]
  }
 ],
 "metadata": {
  "kernelspec": {
   "display_name": "learning-env",
   "language": "python",
   "name": "python3"
  },
  "language_info": {
   "name": "python",
   "version": "3.10.6"
  },
  "orig_nbformat": 4
 },
 "nbformat": 4,
 "nbformat_minor": 2
}
